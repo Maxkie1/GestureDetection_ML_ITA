{
 "cells": [
  {
   "attachments": {},
   "cell_type": "markdown",
   "metadata": {},
   "source": [
    "# Train Model\n",
    "The train_model.ipynp notebook a neural network to recognize ten different hand gestures.  \n",
    "The trained model will be stored in models/model_<\\hash>.h5. The training results will be stored in models/results/results_<\\hash>.md.  \n",
    "The notebook assumes that the training and test data are available in data/train/training_data.h5 and data/test/test_data.h5."
   ]
  },
  {
   "attachments": {},
   "cell_type": "markdown",
   "metadata": {},
   "source": [
    "#### (Optional) Google Colab setup"
   ]
  },
  {
   "cell_type": "code",
   "execution_count": null,
   "metadata": {},
   "outputs": [],
   "source": [
    "# Mount Google Drive\n",
    "from google.colab import drive\n",
    "drive.mount('/content/drive')\n",
    "# Install requirements\n",
    "!pip install -r /content/drive/MyDrive/GestureDetection_ML_ITA/requirements.txt\n",
    "# Go to src folder\n",
    "%cd /content/drive/MyDrive/GestureDetection_ML_ITA/src"
   ]
  },
  {
   "attachments": {},
   "cell_type": "markdown",
   "metadata": {},
   "source": [
    "#### Import the necessary libraries"
   ]
  },
  {
   "cell_type": "code",
   "execution_count": null,
   "metadata": {},
   "outputs": [],
   "source": [
    "import model\n",
    "import tensorflow as tf"
   ]
  },
  {
   "attachments": {},
   "cell_type": "markdown",
   "metadata": {},
   "source": [
    "#### (Optional) Confirm GPU connection"
   ]
  },
  {
   "cell_type": "code",
   "execution_count": null,
   "metadata": {},
   "outputs": [],
   "source": [
    "device_name = tf.test.gpu_device_name()\n",
    "if device_name != '/device:GPU:0':\n",
    "  raise SystemError('GPU device not found')\n",
    "print('Found GPU at: {}'.format(device_name))"
   ]
  },
  {
   "attachments": {},
   "cell_type": "markdown",
   "metadata": {},
   "source": [
    "#### Preparations for the training process"
   ]
  },
  {
   "cell_type": "code",
   "execution_count": null,
   "metadata": {},
   "outputs": [],
   "source": [
    "# Define the paths to the training and test HDF5 files\n",
    "training_h5_path = '../data/train/training_data.h5'\n",
    "test_h5_path = '../data/test/test_data.h5'\n",
    "# Define the hyperparameter search space\n",
    "batch_size = [32, 64, 128, 256, 512, 1024]\n",
    "epochs = [10, 20, 30, 40, 50, 60, 70, 80, 90, 100]\n",
    "hidden_layers = [1, 2, 3]\n",
    "neurons_layer1 = [16, 32, 64, 128, 256]\n",
    "neurons_layer2 = [16, 32, 64, 128, 256]\n",
    "neurons_layer3 = [16, 32, 64, 128, 256]\n",
    "batch_normalization = [True, False]\n",
    "dropout = [True, False]\n",
    "param_distributions = dict(\n",
    "    batch_size=batch_size,\n",
    "    epochs=epochs,\n",
    "    model__hidden_layers=hidden_layers,\n",
    "    model__neurons_layer1=neurons_layer1,\n",
    "    model__neurons_layer2=neurons_layer2,\n",
    "    model__neurons_layer3=neurons_layer3,\n",
    "    model__batch_normalization=batch_normalization,\n",
    "    model__dropout=dropout\n",
    ")\n",
    "# Prepare the data\n",
    "x_train, y_train, x_test, y_test = model.prepare_data(training_h5_path, test_h5_path)"
   ]
  },
  {
   "attachments": {},
   "cell_type": "markdown",
   "metadata": {},
   "source": [
    "#### Train and evaluate the model with bayesian optimization"
   ]
  },
  {
   "cell_type": "code",
   "execution_count": null,
   "metadata": {},
   "outputs": [],
   "source": [
    "model.train_and_evaluate_model(x_train, y_train, x_test, y_test, param_distributions, n_iter=20, cv=4, n_jobs=1, verbose=1)"
   ]
  },
  {
   "attachments": {},
   "cell_type": "markdown",
   "metadata": {},
   "source": [
    "#### Train and evaluate the final model based on the best hyperparameters"
   ]
  },
  {
   "cell_type": "code",
   "execution_count": null,
   "metadata": {},
   "outputs": [],
   "source": [
    "# Define the best hyperparameters dict\n",
    "best_distributions = dict(\n",
    "    batch_size=256,\n",
    "    epochs=80,\n",
    "    hidden_layers=2,\n",
    "    neurons_layer1=64,\n",
    "    neurons_layer2=128,\n",
    "    neurons_layer3=64,\n",
    "    batch_normalization=True,\n",
    "    dropout=True\n",
    ")\n",
    "# Retrain the model with the best hyperparameters  \n",
    "model.train_and_evaluate_custom_model(x_train, y_train, x_test, y_test, best_distributions)"
   ]
  }
 ],
 "metadata": {
  "kernelspec": {
   "display_name": "Python 3",
   "language": "python",
   "name": "python3"
  },
  "language_info": {
   "codemirror_mode": {
    "name": "ipython",
    "version": 3
   },
   "file_extension": ".py",
   "mimetype": "text/x-python",
   "name": "python",
   "nbconvert_exporter": "python",
   "pygments_lexer": "ipython3",
   "version": "3.10.8 (main, Oct 21 2022, 22:22:30) [Clang 14.0.0 (clang-1400.0.29.202)]"
  },
  "orig_nbformat": 4,
  "vscode": {
   "interpreter": {
    "hash": "b0fa6594d8f4cbf19f97940f81e996739fb7646882a419484c72d19e05852a7e"
   }
  }
 },
 "nbformat": 4,
 "nbformat_minor": 2
}
